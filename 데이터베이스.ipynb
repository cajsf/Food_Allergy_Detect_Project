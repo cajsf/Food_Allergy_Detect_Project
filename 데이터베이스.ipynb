{
 "cells": [
  {
   "cell_type": "code",
   "execution_count": 14,
   "id": "d7457844",
   "metadata": {},
   "outputs": [],
   "source": [
    "import pymysql\n",
    "import pandas as pd"
   ]
  },
  {
   "cell_type": "code",
   "execution_count": 15,
   "id": "f2c028ac",
   "metadata": {},
   "outputs": [],
   "source": [
    "db_host = 'localhost'\n",
    "db_user = 'root'\n",
    "db_password = '1234'\n",
    "db_port = 3306\n",
    "\n",
    "db = pymysql.connect(host = db_host, user = db_user, password = db_password, port = db_port)\n",
    "cursor = db.cursor()\n",
    "\n",
    "sql = \"Create database if not exists Food_Allergy_DB;\"\n",
    "\n",
    "cursor.execute(sql)\n",
    "\n",
    "db.commit()\n",
    "\n",
    "db.close()"
   ]
  },
  {
   "cell_type": "markdown",
   "id": "b89e89f3",
   "metadata": {},
   "source": [
    "### 회사 테이블 생성"
   ]
  },
  {
   "cell_type": "code",
   "execution_count": 3,
   "id": "f7bbdbbd",
   "metadata": {},
   "outputs": [
    {
     "name": "stdout",
     "output_type": "stream",
     "text": [
      "PK : company_id\n"
     ]
    }
   ],
   "source": [
    "db = pymysql.connect(host = db_host, user = db_user, password = db_password, port = db_port, database = 'Food_Allergy_DB')\n",
    "\n",
    "company_table = \"Create table if not exists Company(company_id int not null auto_increment primary key, company_name varchar(20) not null, company_phone1 varchar(3), company_phone2 varchar(8));\"\n",
    "company_increment_alter = \"alter table Company auto_increment = 10001;\"\n",
    "cursor = db.cursor()\n",
    "\n",
    "cursor.execute(company_table)\n",
    "cursor.execute(company_increment_alter)\n",
    "db.commit()\n",
    "db.close()\n",
    "\n",
    "print(\"PK : company_id\")"
   ]
  },
  {
   "cell_type": "markdown",
   "id": "a0fe17a9",
   "metadata": {},
   "source": [
    "### 식품 테이블 생성"
   ]
  },
  {
   "cell_type": "code",
   "execution_count": 4,
   "id": "7ca3f8b3",
   "metadata": {},
   "outputs": [
    {
     "name": "stdout",
     "output_type": "stream",
     "text": [
      "PK  : food_id\n",
      "FK : company_id -> Company(company_id)\n"
     ]
    }
   ],
   "source": [
    "db = pymysql.connect(host = db_host, user = db_user, password = db_password, port = db_port, database = 'Food_Allergy_DB')\n",
    "\n",
    "Food_table = \"Create table if not exists Food(food_id int not null auto_increment primary key, company_id int not null, food_name varchar(50) not null, food_url varchar(100), foreign key(company_id) references Company(company_id) on delete cascade);\"\n",
    "food_increment_alter = \"alter table Food auto_increment = 100001;\"\n",
    "cursor = db.cursor()\n",
    "\n",
    "cursor.execute(Food_table)\n",
    "cursor.execute(food_increment_alter)\n",
    "db.commit()\n",
    "db.close()\n",
    "\n",
    "print(\"PK  : food_id\")\n",
    "print(\"FK : company_id -> Company(company_id)\")"
   ]
  },
  {
   "cell_type": "markdown",
   "id": "33f0883c",
   "metadata": {},
   "source": [
    "### 알러지 테이블 생성"
   ]
  },
  {
   "cell_type": "code",
   "execution_count": 5,
   "id": "77436af3",
   "metadata": {},
   "outputs": [
    {
     "name": "stdout",
     "output_type": "stream",
     "text": [
      "PK : allergy_id\n"
     ]
    }
   ],
   "source": [
    "db = pymysql.connect(host = db_host, user = db_user, password = db_password, port = db_port, database = 'Food_Allergy_DB')\n",
    "\n",
    "Allergy_table = \"Create table if not exists Allergy(allergy_id int not null auto_increment primary key, allergy_name varchar(30) not null);\"\n",
    "cursor = db.cursor()\n",
    "\n",
    "cursor.execute(Allergy_table)\n",
    "db.commit()\n",
    "db.close()\n",
    "\n",
    "print(\"PK : allergy_id\")"
   ]
  },
  {
   "cell_type": "markdown",
   "id": "7a4466a3",
   "metadata": {},
   "source": [
    "### 식품 알러지 교차 테이블 생성"
   ]
  },
  {
   "cell_type": "code",
   "execution_count": 6,
   "id": "59d64991",
   "metadata": {},
   "outputs": [
    {
     "name": "stdout",
     "output_type": "stream",
     "text": [
      "PK : food_id, allergy_id\n",
      "FK : food_id -> Food(food_id)\n",
      "FK : allergy_id -> Allergy(allergy_id)\n"
     ]
    }
   ],
   "source": [
    "db = pymysql.connect(host = db_host, user = db_user, password = db_password, port = db_port, database = 'Food_Allergy_DB')\n",
    "\n",
    "Food_Allergy_table = \"Create table if not exists Food_Allergy(food_id int not null, allergy_id int not null, primary key(food_id, allergy_id), foreign key(food_id) references Food(food_id) on delete cascade, foreign key(allergy_id) references Allergy(allergy_id) on delete cascade);\"\n",
    "cursor = db.cursor()\n",
    "\n",
    "cursor.execute(Food_Allergy_table)\n",
    "db.commit()\n",
    "db.close()\n",
    "\n",
    "print(\"PK : food_id, allergy_id\")\n",
    "print(\"FK : food_id -> Food(food_id)\")\n",
    "print(\"FK : allergy_id -> Allergy(allergy_id)\")"
   ]
  },
  {
   "cell_type": "markdown",
   "id": "656bbd08",
   "metadata": {},
   "source": [
    "### 대체 식품 테이블 생성"
   ]
  },
  {
   "cell_type": "code",
   "execution_count": 33,
   "id": "8871233f",
   "metadata": {},
   "outputs": [
    {
     "name": "stdout",
     "output_type": "stream",
     "text": [
      "PK : alternative_food_id\n"
     ]
    }
   ],
   "source": [
    "db = pymysql.connect(host = db_host, user = db_user, password = db_password, port = db_port, database = 'Food_Allergy_DB')\n",
    "\n",
    "Alternative_Food_table = \"Create table if not exists Alternative_Food(alternative_food_id int not null auto_increment primary key, alternative_food_name varchar(30) not null);\"\n",
    "cursor = db.cursor()\n",
    "\n",
    "cursor.execute(Alternative_Food_table)\n",
    "db.commit()\n",
    "db.close()\n",
    "\n",
    "print(\"PK : alternative_food_id\")"
   ]
  },
  {
   "cell_type": "markdown",
   "id": "cf46165f",
   "metadata": {},
   "source": [
    "###  알러지 대체 식품 교차 테이블 생성"
   ]
  },
  {
   "cell_type": "code",
   "execution_count": 34,
   "id": "0a8c16f7",
   "metadata": {},
   "outputs": [
    {
     "name": "stdout",
     "output_type": "stream",
     "text": [
      "PK : allergy_id, alternative_food_id\n",
      "FK : allergy_id -> Allergy(allergy_id)\n",
      "FK : alternative_food_id -> Alternative_Food(alternative_food_id)\n"
     ]
    }
   ],
   "source": [
    "db = pymysql.connect(host = db_host, user = db_user, password = db_password, port = db_port, database = 'Food_Allergy_DB')\n",
    "\n",
    "Allergy_Alternative_Food_table = \"Create table if not exists Allergy_Alternative_Food(allergy_id int not null, alternative_food_id int not null, primary key(allergy_id, alternative_food_id), foreign key(allergy_id) references Allergy(allergy_id) on delete cascade, foreign key(alternative_food_id) references Alternative_Food(alternative_food_id) on delete cascade);\"\n",
    "cursor = db.cursor()\n",
    "\n",
    "cursor.execute(Allergy_Alternative_Food_table)\n",
    "db.commit()\n",
    "db.close()\n",
    "\n",
    "print(\"PK : allergy_id, alternative_food_id\")\n",
    "print(\"FK : allergy_id -> Allergy(allergy_id)\")\n",
    "print(\"FK : alternative_food_id -> Alternative_Food(alternative_food_id)\")\n"
   ]
  },
  {
   "cell_type": "markdown",
   "id": "a94887d5",
   "metadata": {},
   "source": [
    "### 교차반응군 테이블 생성"
   ]
  },
  {
   "cell_type": "code",
   "execution_count": 35,
   "id": "c02984c3",
   "metadata": {},
   "outputs": [
    {
     "name": "stdout",
     "output_type": "stream",
     "text": [
      "PK : cross_reaction_id\n"
     ]
    }
   ],
   "source": [
    "db = pymysql.connect(host = db_host, user = db_user, password = db_password, port = db_port, database = 'Food_Allergy_DB')\n",
    "\n",
    "Cross_Reaction_table = \"Create table if not exists Cross_Reaction(cross_reaction_id int not null auto_increment primary key, cross_reaction_name varchar(20) not null);\"\n",
    "cursor = db.cursor()\n",
    "\n",
    "cursor.execute(Cross_Reaction_table)\n",
    "db.commit()\n",
    "db.close()\n",
    "print(\"PK : cross_reaction_id\")"
   ]
  },
  {
   "cell_type": "markdown",
   "id": "df09e938",
   "metadata": {},
   "source": [
    "### 알러지 교차반응군 교차 테이블 생성"
   ]
  },
  {
   "cell_type": "code",
   "execution_count": 36,
   "id": "c4e4cf32",
   "metadata": {},
   "outputs": [
    {
     "name": "stdout",
     "output_type": "stream",
     "text": [
      "PK : allergy_id, cross_reaction_id\n",
      "FK : allergy_id -> Allergy(allergy_id)\n",
      "FK : cross_reaction_id -> Cross_Reaction(cross_reaction_id)\n"
     ]
    }
   ],
   "source": [
    "db = pymysql.connect(host = db_host, user = db_user, password = db_password, port = db_port, database = 'Food_Allergy_DB')\n",
    "\n",
    "Allergy_Cross_Reaction_table = \"Create table if not exists Allergy_Cross_Reaction(allergy_id int not null, cross_reaction_id int not null, cross_reactivity_rate int, primary key(allergy_id, cross_reaction_id), foreign key(allergy_id) references Allergy(allergy_id) on delete cascade, foreign key(cross_reaction_id) references Cross_Reaction(cross_reaction_id) on delete cascade);\"\n",
    "cursor = db.cursor()\n",
    "\n",
    "cursor.execute(Allergy_Cross_Reaction_table)\n",
    "db.commit()\n",
    "db.close()\n",
    "print(\"PK : allergy_id, cross_reaction_id\")\n",
    "print(\"FK : allergy_id -> Allergy(allergy_id)\")\n",
    "print(\"FK : cross_reaction_id -> Cross_Reaction(cross_reaction_id)\")"
   ]
  },
  {
   "cell_type": "markdown",
   "id": "434135e7",
   "metadata": {},
   "source": [
    "### 알러지 테이블에 알러지 종류 Insert"
   ]
  },
  {
   "cell_type": "code",
   "execution_count": 37,
   "id": "5fe018a9",
   "metadata": {},
   "outputs": [],
   "source": [
    "db = pymysql.connect(host = db_host, user = db_user, password = db_password, port = db_port, database = 'Food_Allergy_DB')\n",
    "cursor = db.cursor()\n",
    "\n",
    "file_path = 'SQL/allergy_List.txt'\n",
    "with open(file_path, 'r', encoding='utf-8') as f:\n",
    "    for line in f:\n",
    "        stmt = line.strip()\n",
    "        if stmt:\n",
    "            cursor.execute(stmt)\n",
    "\n",
    "db.commit()\n",
    "cursor.close()\n",
    "db.close()"
   ]
  },
  {
   "cell_type": "markdown",
   "id": "c45c4ff2",
   "metadata": {},
   "source": [
    "### 대체 식품 종류 Insert"
   ]
  },
  {
   "cell_type": "code",
   "execution_count": 38,
   "id": "6ea52da2",
   "metadata": {},
   "outputs": [],
   "source": [
    "db = pymysql.connect(host = db_host, user = db_user, password = db_password, port = db_port, database = 'Food_Allergy_DB')\n",
    "cursor = db.cursor()\n",
    "\n",
    "file_path = 'SQL/Alternative_Food_List.txt'\n",
    "with open(file_path, 'r', encoding='utf-8') as f:\n",
    "    for line in f:\n",
    "        stmt = line.strip()\n",
    "        if stmt:\n",
    "            cursor.execute(stmt)\n",
    "\n",
    "db.commit()\n",
    "cursor.close()\n",
    "db.close()"
   ]
  },
  {
   "cell_type": "markdown",
   "id": "8e881243",
   "metadata": {},
   "source": [
    "### 알러지 - 대체식품 교차 테이블 데이터 Insert"
   ]
  },
  {
   "cell_type": "code",
   "execution_count": 39,
   "id": "491b77ca",
   "metadata": {},
   "outputs": [],
   "source": [
    "db = pymysql.connect(host = db_host, user = db_user, password = db_password, port = db_port, database = 'Food_Allergy_DB')\n",
    "cursor = db.cursor()\n",
    "\n",
    "file_path = 'SQL/Allergy_Alternative_Food_List.txt'\n",
    "with open(file_path, 'r', encoding='utf-8') as f:\n",
    "    for line in f:\n",
    "        stmt = line.strip()\n",
    "        if stmt:\n",
    "            cursor.execute(stmt)\n",
    "\n",
    "db.commit()\n",
    "cursor.close()\n",
    "db.close()"
   ]
  },
  {
   "cell_type": "markdown",
   "id": "7a4ae40b",
   "metadata": {},
   "source": [
    "### 교차 반응군 목록 Insert"
   ]
  },
  {
   "cell_type": "code",
   "execution_count": 40,
   "id": "ef23e029",
   "metadata": {},
   "outputs": [],
   "source": [
    "db = pymysql.connect(host = db_host, user = db_user, password = db_password, port = db_port, database = 'Food_Allergy_DB')\n",
    "cursor = db.cursor()\n",
    "\n",
    "file_path = 'SQL/Cross_Reaction_List.txt'\n",
    "with open(file_path, 'r', encoding='utf-8') as f:\n",
    "    for line in f:\n",
    "        stmt = line.strip()\n",
    "        if stmt:\n",
    "            cursor.execute(stmt)\n",
    "\n",
    "db.commit()\n",
    "cursor.close()\n",
    "db.close()"
   ]
  },
  {
   "cell_type": "markdown",
   "id": "73d896b9",
   "metadata": {},
   "source": [
    "### 알러지 - 교차 반응군 교차 테이블 데이터 Insert"
   ]
  },
  {
   "cell_type": "code",
   "execution_count": 41,
   "id": "7e1b817b",
   "metadata": {},
   "outputs": [],
   "source": [
    "db = pymysql.connect(host = db_host, user = db_user, password = db_password, port = db_port, database = 'Food_Allergy_DB')\n",
    "cursor = db.cursor()\n",
    "\n",
    "file_path = 'SQL/Allergy_Cross_Reaction_List.txt'\n",
    "with open(file_path, 'r', encoding='utf-8') as f:\n",
    "    for line in f:\n",
    "        stmt = line.strip()\n",
    "        if stmt:\n",
    "            cursor.execute(stmt)\n",
    "\n",
    "db.commit()\n",
    "cursor.close()\n",
    "db.close()"
   ]
  },
  {
   "cell_type": "markdown",
   "id": "7351af24",
   "metadata": {},
   "source": [
    "### 회사 목록 Insert"
   ]
  },
  {
   "cell_type": "code",
   "execution_count": 42,
   "id": "01d7865a",
   "metadata": {},
   "outputs": [],
   "source": [
    "db = pymysql.connect(host = db_host, user = db_user, password = db_password, port = db_port, database = 'Food_Allergy_DB')\n",
    "cursor = db.cursor()\n",
    "\n",
    "file_path = 'SQL/Company_List.txt'\n",
    "with open(file_path, 'r', encoding='utf-8') as f:\n",
    "    for line in f:\n",
    "        stmt = line.strip()\n",
    "        if stmt:\n",
    "            cursor.execute(stmt)\n",
    "\n",
    "db.commit()\n",
    "cursor.close()\n",
    "db.close()"
   ]
  },
  {
   "cell_type": "markdown",
   "id": "14319219",
   "metadata": {},
   "source": [
    "### 오뚜기 제품 정보 Insert"
   ]
  },
  {
   "cell_type": "code",
   "execution_count": null,
   "id": "a57be4d6",
   "metadata": {},
   "outputs": [
    {
     "name": "stdout",
     "output_type": "stream",
     "text": [
      "100개 Insert 완료\n",
      "200개 Insert 완료\n",
      "300개 Insert 완료\n",
      "400개 Insert 완료\n",
      "500개 Insert 완료\n",
      "600개 Insert 완료\n",
      "700개 Insert 완료\n",
      "800개 Insert 완료\n",
      "900개 Insert 완료\n",
      "1000개 Insert 완료\n",
      "1100개 Insert 완료\n"
     ]
    }
   ],
   "source": [
    "import pandas as pd\n",
    "import pymysql\n",
    "\n",
    "df = pd.read_csv('오뚜기_제품_정보.csv', index_col=0)\n",
    "data = df[['company', 'product_name', 'url']].values.tolist()\n",
    "\n",
    "db = pymysql.connect(host = db_host, user = db_user, password = db_password, port = db_port, database = 'Food_Allergy_DB')\n",
    "cursor = db.cursor()\n",
    "\n",
    "sql = \"INSERT INTO Food (company_id, food_name, food_url) VALUES (%s, %s, %s);\"\n",
    "\n",
    "for i, row in enumerate(data, start=1):\n",
    "    cursor.execute(sql, row)\n",
    "    if i % 100 == 0:\n",
    "        print(f\"{i}개 Insert 완료\")\n",
    "\n",
    "cursor.close()\n",
    "db.close()"
   ]
  },
  {
   "cell_type": "code",
   "execution_count": 19,
   "id": "b0e889ef",
   "metadata": {},
   "outputs": [
    {
     "name": "stdout",
     "output_type": "stream",
     "text": [
      "User_Allergies 테이블 삭제 완료\n",
      "Users 테이블 삭제 완료\n"
     ]
    }
   ],
   "source": [
    "db = pymysql.connect(host = db_host, user = db_user, password = db_password, port = db_port, database = 'Food_Allergy_DB')\n",
    "cursor = db.cursor()\n",
    "\n",
    "# --- 1. 기존 테이블 삭제 (참조하는 테이블부터 순서대로) ---\n",
    "\n",
    "# User_Allergies 테이블 삭제\n",
    "drop_user_allergies_sql = \"DROP TABLE IF EXISTS User_Allergies;\"\n",
    "cursor.execute(drop_user_allergies_sql)\n",
    "print(\"User_Allergies 테이블 삭제 완료\")\n",
    "\n",
    "# Users 테이블 삭제\n",
    "drop_users_sql = \"DROP TABLE IF EXISTS Users;\"\n",
    "cursor.execute(drop_users_sql)\n",
    "print(\"Users 테이블 삭제 완료\")"
   ]
  },
  {
   "cell_type": "markdown",
   "id": "5893cbfc",
   "metadata": {},
   "source": [
    "### User Table 생성"
   ]
  },
  {
   "cell_type": "code",
   "execution_count": 20,
   "id": "a4272329",
   "metadata": {},
   "outputs": [
    {
     "name": "stdout",
     "output_type": "stream",
     "text": [
      "PK : user_id\n"
     ]
    }
   ],
   "source": [
    "db = pymysql.connect(host = db_host, user = db_user, password = db_password, port = db_port, database = 'Food_Allergy_DB')\n",
    "\n",
    "Users_table = \"CREATE TABLE Users ( \\\n",
    "    user_id INT NOT NULL AUTO_INCREMENT PRIMARY KEY, \\\n",
    "    username VARCHAR(50) NOT NULL UNIQUE, \\\n",
    "    password VARCHAR(72) NOT NULL, \\\n",
    "    role VARCHAR(10) NOT NULL DEFAULT 'user'\\\n",
    ");\"\n",
    "\n",
    "cursor = db.cursor()\n",
    "\n",
    "cursor.execute(Users_table)\n",
    "db.commit()\n",
    "db.close()\n",
    "\n",
    "print(\"PK : user_id\")"
   ]
  },
  {
   "cell_type": "markdown",
   "id": "5a099fa5",
   "metadata": {},
   "source": [
    "### 유저 알레르기 테이블 생성"
   ]
  },
  {
   "cell_type": "code",
   "execution_count": 21,
   "id": "ecb50ad2",
   "metadata": {},
   "outputs": [
    {
     "name": "stdout",
     "output_type": "stream",
     "text": [
      "PK : user_id, allergy_id\n",
      "FK : user_id -> Users(user_id)\n",
      "FK : allergy_id -> Allergy(allergy_id)\n"
     ]
    }
   ],
   "source": [
    "db = pymysql.connect(host = db_host, user = db_user, password = db_password, port = db_port, database = 'Food_Allergy_DB')\n",
    "\n",
    "User_Allergies_table = \"CREATE TABLE IF NOT EXISTS User_Allergies ( \\\n",
    "    user_id INT NOT NULL, \\\n",
    "    allergy_id INT NOT NULL, \\\n",
    "    PRIMARY KEY (user_id, allergy_id), \\\n",
    "    FOREIGN KEY (user_id) REFERENCES Users(user_id) ON DELETE CASCADE, \\\n",
    "    FOREIGN KEY (allergy_id) REFERENCES Allergy(allergy_id) ON DELETE CASCADE \\\n",
    ");\"\n",
    "\n",
    "cursor = db.cursor()\n",
    "\n",
    "cursor.execute(User_Allergies_table)\n",
    "db.commit()\n",
    "db.close()\n",
    "\n",
    "print(\"PK : user_id, allergy_id\")\n",
    "print(\"FK : user_id -> Users(user_id)\")\n",
    "print(\"FK : allergy_id -> Allergy(allergy_id)\")"
   ]
  },
  {
   "cell_type": "markdown",
   "id": "c42fb081",
   "metadata": {},
   "source": [
    "### 관리자 계정 설정"
   ]
  },
  {
   "cell_type": "code",
   "execution_count": null,
   "id": "8a3d5d22",
   "metadata": {},
   "outputs": [
    {
     "name": "stdout",
     "output_type": "stream",
     "text": [
      "관리자 계정 설정 성공\n"
     ]
    },
    {
     "ename": "",
     "evalue": "",
     "output_type": "error",
     "traceback": [
      "\u001b[1;31m현재 셀 또는 이전 셀에서 코드를 실행하는 동안 Kernel이 충돌했습니다. \n",
      "\u001b[1;31m셀의 코드를 검토하여 가능한 오류 원인을 식별하세요. \n",
      "\u001b[1;31m자세한 내용을 보려면 <a href='https://aka.ms/vscodeJupyterKernelCrash'>여기</a>를 클릭하세요. \n",
      "\u001b[1;31m자세한 내용은 Jupyter <a href='command:jupyter.viewOutput'>로그</a>를 참조하세요."
     ]
    }
   ],
   "source": [
    "db = pymysql.connect(host = db_host, user = db_user, password = db_password, port = db_port, database = 'Food_Allergy_DB')\n",
    "\n",
    "User_Allergies_table = \"UPDATE Users SET role = 'admin' where username = 'admin';\"\n",
    "\n",
    "cursor = db.cursor()\n",
    "\n",
    "cursor.execute(User_Allergies_table)\n",
    "db.commit()\n",
    "db.close()\n",
    "\n",
    "print(\"관리자 계정 설정 성공\")"
   ]
  },
  {
   "cell_type": "code",
   "execution_count": null,
   "id": "f5801356",
   "metadata": {},
   "outputs": [],
   "source": []
  }
 ],
 "metadata": {
  "kernelspec": {
   "display_name": "Python 3",
   "language": "python",
   "name": "python3"
  },
  "language_info": {
   "codemirror_mode": {
    "name": "ipython",
    "version": 3
   },
   "file_extension": ".py",
   "mimetype": "text/x-python",
   "name": "python",
   "nbconvert_exporter": "python",
   "pygments_lexer": "ipython3",
   "version": "3.10.11"
  }
 },
 "nbformat": 4,
 "nbformat_minor": 5
}
